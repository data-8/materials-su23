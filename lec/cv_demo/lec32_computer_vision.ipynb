{
 "cells": [
  {
   "cell_type": "code",
   "execution_count": null,
   "id": "21bb4416",
   "metadata": {},
   "outputs": [],
   "source": [
    "# Boring Installation Stuff - takes 2-5 minutes\n",
    "!sh load.sh\n",
    "\n",
    "# Helps you get the packages you don't have\n",
    "import sys\n",
    "!{sys.executable} -m pip install opencv-python\n",
    "\n",
    "# Import all other packages\n",
    "from datascience import *\n",
    "from ultralytics import YOLO\n",
    "from PIL import Image\n",
    "from ipywidgets.widgets import IntSlider, interact_manual\n",
    "\n",
    "import numpy as np\n",
    "import cv2\n",
    "\n",
    "import matplotlib.pyplot as plt\n",
    "%matplotlib inline\n",
    "\n",
    "\n",
    "# Some useful helper functions\n",
    "def show_image(im, size=None):\n",
    "    \"Shows an image from a NumPy array\"\n",
    "    fig, ax = plt.subplots(figsize=size)\n",
    "    ax.imshow(im, cmap=\"gray\", vmin=0, vmax=255)\n",
    "    ax.set_xticks([])\n",
    "    ax.set_yticks([])\n",
    "\n",
    "def read_video(path):\n",
    "    \"Reads a video file into NumPy array\"\n",
    "    frames = []\n",
    "\n",
    "    cap = cv2.VideoCapture(path)\n",
    "    ret = True\n",
    "    for _ in np.arange(40):\n",
    "        ret, img = cap.read() \n",
    "        if ret:\n",
    "            frames.append(cv2.cvtColor(img, cv2.COLOR_BGR2RGB))\n",
    "    return np.stack(frames, axis=0)"
   ]
  },
  {
   "cell_type": "markdown",
   "id": "8b04bbf5",
   "metadata": {},
   "source": [
    "# Lecture 31: Working with Images, Computer Vision\n",
    "\n",
    "## Image Data\n",
    "\n",
    "Images are just two-dimensional arrays. You can think about them as several **arrays within one larger array**."
   ]
  },
  {
   "cell_type": "code",
   "execution_count": null,
   "id": "126cc78a",
   "metadata": {},
   "outputs": [],
   "source": [
    "# Here is an example of a 3x3 image\n",
    "im = make_array(\n",
    "    make_array(0, 255, 0),\n",
    "    make_array(255, 0, 255),\n",
    "    make_array(0, 255, 0),\n",
    ")\n",
    "im"
   ]
  },
  {
   "cell_type": "markdown",
   "id": "fae39cfc",
   "metadata": {},
   "source": [
    "We can show our image using the helper `show_image` function that uses `matplotlib`'s `imshow` method."
   ]
  },
  {
   "cell_type": "code",
   "execution_count": null,
   "id": "e86f853d",
   "metadata": {},
   "outputs": [],
   "source": [
    "show_image(im)"
   ]
  },
  {
   "cell_type": "markdown",
   "id": "9d007784",
   "metadata": {},
   "source": [
    "Now we can create images with specific shades of black or white."
   ]
  },
  {
   "cell_type": "code",
   "execution_count": null,
   "id": "32bc4982",
   "metadata": {},
   "outputs": [],
   "source": [
    "# Create an image of all black pixels\n",
    "black = make_array(\n",
    "    make_array(0, 0, 0),\n",
    "    make_array(0, 0, 0),\n",
    "    make_array(0, 0, 0),\n",
    ")\n",
    "\n",
    "# Create an image of all white pixels\n",
    "white = make_array(\n",
    "    make_array(255, 255, 255),\n",
    "    make_array(255, 255, 255),\n",
    "    make_array(255, 255, 255),\n",
    ")\n",
    "\n",
    "# Create an image of all grey pixels\n",
    "grey = make_array(\n",
    "    make_array(125, 125, 125),\n",
    "    make_array(125, 125, 125),\n",
    "    make_array(125, 125, 125),\n",
    ")"
   ]
  },
  {
   "cell_type": "code",
   "execution_count": null,
   "id": "d96c9054",
   "metadata": {},
   "outputs": [],
   "source": [
    "show_image(black)"
   ]
  },
  {
   "cell_type": "code",
   "execution_count": null,
   "id": "334d7388",
   "metadata": {},
   "outputs": [],
   "source": [
    "show_image(white)"
   ]
  },
  {
   "cell_type": "code",
   "execution_count": null,
   "id": "3af73d8e",
   "metadata": {},
   "outputs": [],
   "source": [
    "show_image(grey)"
   ]
  },
  {
   "cell_type": "markdown",
   "id": "f219280c",
   "metadata": {},
   "source": [
    "<div style=\"width:125px; margin:0 auto;\"><b>(back to slides)</b></div>"
   ]
  },
  {
   "cell_type": "markdown",
   "id": "668ccfc6",
   "metadata": {},
   "source": [
    "## What About Color?\n",
    "\n",
    "Color images consist of **three color channels**, RGB, which represent the intensity of that particular color for every pixel. Every pixel has a value for **each color channel**. For example, a **red pixel** should have the following channel values: `R=255, G=0, B=0`"
   ]
  },
  {
   "cell_type": "code",
   "execution_count": null,
   "id": "4624bc38",
   "metadata": {},
   "outputs": [],
   "source": [
    "# Create a red pixel using the array methods\n",
    "red_pixel = make_array(255, 0, 0)"
   ]
  },
  {
   "cell_type": "code",
   "execution_count": null,
   "id": "f342f5a3",
   "metadata": {},
   "outputs": [],
   "source": [
    "# Create an image using all red pixels\n",
    "red = make_array(\n",
    "    make_array(red_pixel, red_pixel, red_pixel),\n",
    "    make_array(red_pixel, red_pixel, red_pixel),\n",
    "    make_array(red_pixel, red_pixel, red_pixel)\n",
    ")\n",
    "red"
   ]
  },
  {
   "cell_type": "code",
   "execution_count": null,
   "id": "9565ac8a",
   "metadata": {},
   "outputs": [],
   "source": [
    "show_image(red)"
   ]
  },
  {
   "cell_type": "code",
   "execution_count": null,
   "id": "4572f49d",
   "metadata": {},
   "outputs": [],
   "source": [
    "# Create a green and blue pixel like before\n",
    "green_pixel = make_array(0, 255, 0)\n",
    "blue_pixel = make_array(0, 0, 255)"
   ]
  },
  {
   "cell_type": "code",
   "execution_count": null,
   "id": "a1e6425e",
   "metadata": {},
   "outputs": [],
   "source": [
    "# Create an image using green and blue pixels\n",
    "green_blue = make_array(\n",
    "    make_array(green_pixel, blue_pixel, green_pixel),\n",
    "    make_array(green_pixel, blue_pixel, green_pixel),\n",
    "    make_array(green_pixel, blue_pixel, green_pixel)\n",
    ")\n",
    "show_image(green_blue)"
   ]
  },
  {
   "cell_type": "markdown",
   "id": "1d4a8669",
   "metadata": {},
   "source": [
    "We can combine each color channel in the following way to make **purple** and **orange**."
   ]
  },
  {
   "cell_type": "code",
   "execution_count": null,
   "id": "933da46c",
   "metadata": {},
   "outputs": [],
   "source": [
    "purple_pixel = make_array(100, 0, 255)\n",
    "yellow_pixel = make_array(255, 150, 0)\n",
    "\n",
    "cool_image = make_array(\n",
    "    make_array(purple_pixel, blue_pixel, red_pixel),\n",
    "    make_array(green_pixel, yellow_pixel, green_pixel),\n",
    "    make_array(red_pixel, blue_pixel, purple_pixel)\n",
    ")\n",
    "show_image(cool_image)"
   ]
  },
  {
   "cell_type": "markdown",
   "id": "57cf325e",
   "metadata": {},
   "source": [
    "## Loading in Your Own Images\n",
    "\n",
    "Rather than manually creating our image arrays, we can load in our own images to the notebook"
   ]
  },
  {
   "cell_type": "code",
   "execution_count": null,
   "id": "8abbd952",
   "metadata": {},
   "outputs": [],
   "source": [
    "kevin = plt.imread(\"kevin.jpg\")\n",
    "kevin"
   ]
  },
  {
   "cell_type": "code",
   "execution_count": null,
   "id": "4ea2cbc3",
   "metadata": {},
   "outputs": [],
   "source": [
    "show_image(kevin, size=(6, 8))"
   ]
  },
  {
   "cell_type": "markdown",
   "id": "4155cdff",
   "metadata": {},
   "source": [
    "We can figure out the **dimensions of our image** by using the `.shape` attribute. We see that the output shape is actually three-dimensional."
   ]
  },
  {
   "cell_type": "code",
   "execution_count": null,
   "id": "07ad30de",
   "metadata": {},
   "outputs": [],
   "source": [
    "print(f\"The image of kevin is {kevin.shape[0]} pixels tall \\\n",
    "and {kevin.shape[1]} pixels wide, and has {kevin.shape[2]} channels\")"
   ]
  },
  {
   "cell_type": "markdown",
   "id": "7f188ab5",
   "metadata": {},
   "source": [
    "<div style=\"width:125px; margin:0 auto;\"><b>(back to slides)</b></div>"
   ]
  },
  {
   "cell_type": "markdown",
   "id": "ce21a92a",
   "metadata": {},
   "source": [
    "## Video Data\n",
    "\n",
    "Videos are sequences of frames processed at a high rate. Videos are measured in Frames Per Second (FPS). Here's an example of a few anonymous tennis players."
   ]
  },
  {
   "cell_type": "markdown",
   "id": "5f3b5c42",
   "metadata": {},
   "source": [
    "<video width=\"950\" controls src=\"swing.mov\" />"
   ]
  },
  {
   "cell_type": "code",
   "execution_count": null,
   "id": "05469edc",
   "metadata": {},
   "outputs": [],
   "source": [
    "video = read_video(\"swing.mov\")\n",
    "video"
   ]
  },
  {
   "cell_type": "code",
   "execution_count": null,
   "id": "98d685dd",
   "metadata": {},
   "outputs": [],
   "source": [
    "print(f\"There are {video.shape[0]} images that are all {video.shape[1]} pixels tall \\\n",
    "and {video.shape[2]} pixels wide with {video.shape[3]} channels\")"
   ]
  },
  {
   "cell_type": "markdown",
   "id": "a0e7024b",
   "metadata": {},
   "source": [
    "We can also look at each frame individually to see what the video is comprised of."
   ]
  },
  {
   "cell_type": "code",
   "execution_count": null,
   "id": "fdfa9924",
   "metadata": {},
   "outputs": [],
   "source": [
    "def show_video_frame(num):\n",
    "    \"Shows the desired video frame\"\n",
    "    show_image(video[num], size=(14, 14))\n",
    "    \n",
    "interact_manual(show_video_frame, num=IntSlider(min=0, max=len(video)-1, step=1));"
   ]
  },
  {
   "cell_type": "markdown",
   "id": "804b0880",
   "metadata": {},
   "source": [
    "<div style=\"width:125px; margin:0 auto;\"><b>(back to slides)</b></div>"
   ]
  },
  {
   "cell_type": "markdown",
   "id": "f9fefbe4",
   "metadata": {},
   "source": [
    "## YOLO v8\n",
    "\n",
    "Let's explore the cutting-edge, state-of-the-art object detection model called YOLO v8. Note that if you are running this **on DataHub**, you'll need to first install the `ultralytics` package and import `YOLO`. The course staff can help you if you're having trouble."
   ]
  },
  {
   "cell_type": "code",
   "execution_count": null,
   "id": "37d312a7",
   "metadata": {
    "scrolled": true
   },
   "outputs": [],
   "source": [
    "# Load in the newest YOLO detection model\n",
    "detect = YOLO('yolov8m.pt') "
   ]
  },
  {
   "cell_type": "code",
   "execution_count": null,
   "id": "e57c5dfd",
   "metadata": {},
   "outputs": [],
   "source": [
    "# Run prediction on camera\n",
    "detect.predict(source=\"0\", show=True)"
   ]
  }
 ],
 "metadata": {
  "kernelspec": {
   "display_name": "Python 3 (ipykernel)",
   "language": "python",
   "name": "python3"
  },
  "language_info": {
   "codemirror_mode": {
    "name": "ipython",
    "version": 3
   },
   "file_extension": ".py",
   "mimetype": "text/x-python",
   "name": "python",
   "nbconvert_exporter": "python",
   "pygments_lexer": "ipython3",
   "version": "3.9.11"
  }
 },
 "nbformat": 4,
 "nbformat_minor": 5
}
