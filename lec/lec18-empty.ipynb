{
 "cells": [
  {
   "cell_type": "code",
   "execution_count": null,
   "metadata": {},
   "outputs": [],
   "source": [
    "from datascience import *\n",
    "%matplotlib inline\n",
    "path_data = '../../../assets/data/'\n",
    "import matplotlib.pyplot as plots\n",
    "plots.style.use('fivethirtyeight')\n",
    "import numpy as np\n",
    "import warnings\n",
    "warnings.simplefilter(action='ignore', category=np.VisibleDeprecationWarning)"
   ]
  },
  {
   "cell_type": "markdown",
   "metadata": {},
   "source": [
    "# Lecture 24 #"
   ]
  },
  {
   "cell_type": "markdown",
   "metadata": {},
   "source": [
    "## The `percentile` Function ##"
   ]
  },
  {
   "cell_type": "code",
   "execution_count": null,
   "metadata": {},
   "outputs": [],
   "source": [
    "# Manually compute the 55th percentile of the array below.\n",
    "arr = make_array(43, 20, 51, 7, 28, 34)"
   ]
  },
  {
   "cell_type": "code",
   "execution_count": null,
   "metadata": {},
   "outputs": [],
   "source": [
    "# 1. Sort the data.\n",
    "arr = ...\n",
    "arr"
   ]
  },
  {
   "cell_type": "code",
   "execution_count": null,
   "metadata": {},
   "outputs": [],
   "source": [
    "# 2. Find out what index would correspond to the 55th percentile.\n",
    "..."
   ]
  },
  {
   "cell_type": "code",
   "execution_count": null,
   "metadata": {},
   "outputs": [],
   "source": [
    "# 3. Choose the number at that index\n",
    "arr.item(...)"
   ]
  },
  {
   "cell_type": "code",
   "execution_count": null,
   "metadata": {
    "scrolled": true
   },
   "outputs": [],
   "source": [
    "# In one line of code:\n",
    "percentile(..., arr)"
   ]
  },
  {
   "cell_type": "code",
   "execution_count": null,
   "metadata": {},
   "outputs": [],
   "source": []
  },
  {
   "cell_type": "markdown",
   "metadata": {},
   "source": [
    "### Discussion Question ###"
   ]
  },
  {
   "cell_type": "code",
   "execution_count": null,
   "metadata": {},
   "outputs": [],
   "source": [
    "# Discussion question\n",
    "another_arr = make_array(1, 3, 5, 7, 9)"
   ]
  },
  {
   "cell_type": "code",
   "execution_count": null,
   "metadata": {},
   "outputs": [],
   "source": [
    "percentile(10, another_arr) == 0"
   ]
  },
  {
   "cell_type": "code",
   "execution_count": null,
   "metadata": {},
   "outputs": [],
   "source": [
    "percentile(39, another_arr) == percentile(40, another_arr)"
   ]
  },
  {
   "cell_type": "code",
   "execution_count": null,
   "metadata": {},
   "outputs": [],
   "source": [
    "percentile(40, another_arr) == percentile(41, another_arr)"
   ]
  },
  {
   "cell_type": "code",
   "execution_count": null,
   "metadata": {},
   "outputs": [],
   "source": [
    "percentile(50, another_arr) == 5"
   ]
  },
  {
   "cell_type": "code",
   "execution_count": null,
   "metadata": {},
   "outputs": [],
   "source": []
  },
  {
   "cell_type": "markdown",
   "metadata": {},
   "source": [
    "## Variability of the Estimate ##"
   ]
  },
  {
   "cell_type": "code",
   "execution_count": null,
   "metadata": {},
   "outputs": [],
   "source": [
    "# Read in the table & filter for people who worked half-time or more\n",
    "sf = Table.read_table('san_francisco_2019.csv')\n",
    "\n",
    "min_salary = 15 * 20 * 50\n",
    "sf = sf.where('Salary', are.above(min_salary))"
   ]
  },
  {
   "cell_type": "code",
   "execution_count": null,
   "metadata": {},
   "outputs": [],
   "source": [
    "# Look at how many people are in our dataset\n",
    "..."
   ]
  },
  {
   "cell_type": "code",
   "execution_count": null,
   "metadata": {},
   "outputs": [],
   "source": [
    "# Visualize the population's total compensation\n",
    "sf_bins = np.arange(0, 726000, 25000)\n",
    "sf.hist('Total Compensation', bins=sf_bins);"
   ]
  },
  {
   "cell_type": "code",
   "execution_count": null,
   "metadata": {},
   "outputs": [],
   "source": [
    "# Find the median total compensation of the population\n",
    "# Recall that this is a parameter (ie. it comes from the population)\n",
    "pop_median = percentile(..., sf.column('Total Compensation'))\n",
    "pop_median"
   ]
  },
  {
   "cell_type": "markdown",
   "metadata": {},
   "source": [
    "Let's take a look at how just _one_ random sample would look."
   ]
  },
  {
   "cell_type": "code",
   "execution_count": null,
   "metadata": {},
   "outputs": [],
   "source": [
    "# One random sample\n",
    "our_sample = sf.sample(400, with_replacement=False)"
   ]
  },
  {
   "cell_type": "code",
   "execution_count": null,
   "metadata": {
    "scrolled": true
   },
   "outputs": [],
   "source": [
    "# Visualize our sample's total compensation\n",
    "our_sample.hist('Total Compensation', bins=sf_bins)"
   ]
  },
  {
   "cell_type": "code",
   "execution_count": null,
   "metadata": {},
   "outputs": [],
   "source": [
    "# Find the median total compensation of our sample\n",
    "our_sample_median = percentile(..., ....column('Total Compensation'))\n",
    "our_sample_median"
   ]
  },
  {
   "cell_type": "markdown",
   "metadata": {},
   "source": [
    "## The Bootstrap Process ##"
   ]
  },
  {
   "cell_type": "markdown",
   "metadata": {},
   "source": [
    "Sample randomly\n",
    " - from the original sample\n",
    " - with replacement\n",
    " - the same number of times as the original sample size"
   ]
  },
  {
   "cell_type": "code",
   "execution_count": null,
   "metadata": {},
   "outputs": [],
   "source": [
    "# One bootstrap sample (ie. resample)\n",
    "# Why are there no arguments in the sample method call?\n",
    "bootstrap_sample = ....sample()"
   ]
  },
  {
   "cell_type": "code",
   "execution_count": null,
   "metadata": {},
   "outputs": [],
   "source": [
    "# Visualize our bootstrap sample's total compensation\n",
    "bootstrap_sample.hist('Total Compensation', bins=sf_bins)"
   ]
  },
  {
   "cell_type": "code",
   "execution_count": null,
   "metadata": {},
   "outputs": [],
   "source": [
    "# Find the median total compensation of our sample\n",
    "percentile(50, bootstrap_sample.column('Total Compensation'))"
   ]
  },
  {
   "cell_type": "code",
   "execution_count": null,
   "metadata": {},
   "outputs": [],
   "source": [
    "# Default behavior of tbl.sample:\n",
    "# at random with replacement &\n",
    "# the same number of times as rows of tbl\n",
    "\n",
    "def one_bootstrap_median():\n",
    "    resample = our_sample.sample()\n",
    "    return percentile(50, resample.column('Total Compensation'))"
   ]
  },
  {
   "cell_type": "code",
   "execution_count": null,
   "metadata": {},
   "outputs": [],
   "source": [
    "# Use the function defined above\n",
    "one_bootstrap_median()"
   ]
  },
  {
   "cell_type": "code",
   "execution_count": null,
   "metadata": {},
   "outputs": [],
   "source": [
    "# Generate the medians of 3000 bootstrap samples\n",
    "num_repetitions = 3000\n",
    "bootstrap_medians = make_array()\n",
    "\n",
    "for i in np.arange(num_repetitions):\n",
    "    bootstrap_medians = np.append(bootstrap_medians, one_bootstrap_median())"
   ]
  },
  {
   "cell_type": "code",
   "execution_count": null,
   "metadata": {},
   "outputs": [],
   "source": [
    "resampled_medians = Table().with_column('Bootstrap Sample Median', bootstrap_medians)\n",
    "\n",
    "median_bins=np.arange(120000, 160000, 2000)\n",
    "resampled_medians.hist(bins = median_bins)\n",
    "\n",
    "# Plotting parameters; you can ignore this code\n",
    "parameter_green = '#32CD32'\n",
    "plots.ylim(-0.000005, 0.00014)\n",
    "plots.scatter(pop_median, 0, color=parameter_green, s=40, zorder=2)\n",
    "plots.title('Bootstrap Medians and the Parameter (Green Dot)');"
   ]
  },
  {
   "cell_type": "code",
   "execution_count": null,
   "metadata": {},
   "outputs": [],
   "source": []
  },
  {
   "cell_type": "markdown",
   "metadata": {},
   "source": [
    "## 95% Confidence Interval ##"
   ]
  },
  {
   "cell_type": "code",
   "execution_count": null,
   "metadata": {},
   "outputs": [],
   "source": [
    "# Create a 95% confidence interval\n",
    "left = percentile(..., bootstrap_medians)\n",
    "right = percentile(..., bootstrap_medians)\n",
    "\n",
    "make_array(left, right)"
   ]
  },
  {
   "cell_type": "code",
   "execution_count": null,
   "metadata": {},
   "outputs": [],
   "source": [
    "resampled_medians = Table().with_column('Bootstrap Sample Median', bootstrap_medians)\n",
    "\n",
    "median_bins=np.arange(120000, 160000, 2500)\n",
    "resampled_medians.hist(bins = median_bins)\n",
    "\n",
    "# Plotting parameters; you can ignore this code\n",
    "parameter_green = '#32CD32'\n",
    "plots.ylim(-0.000005, 0.00014)\n",
    "plots.plot(make_array(left, right), make_array(0, 0), color='yellow', lw=3, zorder=1)\n",
    "plots.scatter(pop_median, 0, color=parameter_green, s=40, zorder=2)\n",
    "plots.title('Bootstrap Medians and the 95% Confidence Interval');"
   ]
  },
  {
   "cell_type": "code",
   "execution_count": null,
   "metadata": {},
   "outputs": [],
   "source": []
  },
  {
   "cell_type": "code",
   "execution_count": null,
   "metadata": {},
   "outputs": [],
   "source": []
  }
 ],
 "metadata": {
  "kernelspec": {
   "display_name": "Python 3 (ipykernel)",
   "language": "python",
   "name": "python3"
  },
  "language_info": {
   "codemirror_mode": {
    "name": "ipython",
    "version": 3
   },
   "file_extension": ".py",
   "mimetype": "text/x-python",
   "name": "python",
   "nbconvert_exporter": "python",
   "pygments_lexer": "ipython3",
   "version": "3.9.15"
  }
 },
 "nbformat": 4,
 "nbformat_minor": 4
}
