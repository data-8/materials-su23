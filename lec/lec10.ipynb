{
 "cells": [
  {
   "cell_type": "code",
   "execution_count": 1,
   "metadata": {},
   "outputs": [],
   "source": [
    "from datascience import *\n",
    "%matplotlib inline\n",
    "path_data = '../../../assets/data/'\n",
    "import matplotlib.pyplot as plt\n",
    "plt.style.use('fivethirtyeight')\n",
    "import numpy as np\n",
    "import warnings\n",
    "warnings.simplefilter(action='ignore', category=np.VisibleDeprecationWarning)"
   ]
  },
  {
   "cell_type": "markdown",
   "metadata": {},
   "source": [
    "# Lecture 10 #"
   ]
  },
  {
   "cell_type": "markdown",
   "metadata": {},
   "source": [
    "### The Monty Hall Problem ###"
   ]
  },
  {
   "cell_type": "code",
   "execution_count": 2,
   "metadata": {},
   "outputs": [],
   "source": [
    "goats = make_array('first goat', 'second goat')"
   ]
  },
  {
   "cell_type": "code",
   "execution_count": 3,
   "metadata": {},
   "outputs": [],
   "source": [
    "def other_goat(x):\n",
    "    if x == 'first goat':\n",
    "        return 'second goat'\n",
    "    elif x == 'second goat':\n",
    "        return 'first goat'"
   ]
  },
  {
   "cell_type": "code",
   "execution_count": 4,
   "metadata": {},
   "outputs": [
    {
     "data": {
      "text/plain": [
       "('second goat', 'first goat', None)"
      ]
     },
     "execution_count": 4,
     "metadata": {},
     "output_type": "execute_result"
    }
   ],
   "source": [
    "other_goat('first goat'), other_goat('second goat'), other_goat('truck')"
   ]
  },
  {
   "cell_type": "code",
   "execution_count": 5,
   "metadata": {},
   "outputs": [
    {
     "data": {
      "text/plain": [
       "array(['first goat', 'second goat', 'car'],\n",
       "      dtype='<U11')"
      ]
     },
     "execution_count": 5,
     "metadata": {},
     "output_type": "execute_result"
    }
   ],
   "source": [
    "hidden_behind_doors = np.append(goats, 'car')\n",
    "hidden_behind_doors"
   ]
  },
  {
   "cell_type": "code",
   "execution_count": 6,
   "metadata": {},
   "outputs": [],
   "source": [
    "def monty_hall_game():\n",
    "    \"\"\"Return \n",
    "    [contestant's guess, what Monty reveals, what remains behind the other door]\"\"\"\n",
    "    \n",
    "    contestant_guess = np.random.choice(hidden_behind_doors)\n",
    "    \n",
    "    if contestant_guess == 'first goat':\n",
    "        return [contestant_guess, 'second goat', 'car']\n",
    "    \n",
    "    if contestant_guess == 'second goat':\n",
    "        return [contestant_guess, 'first goat', 'car']\n",
    "    \n",
    "    if contestant_guess == 'car':\n",
    "        revealed = np.random.choice(goats)\n",
    "        return [contestant_guess, revealed, other_goat(revealed)]"
   ]
  },
  {
   "cell_type": "code",
   "execution_count": 7,
   "metadata": {},
   "outputs": [
    {
     "data": {
      "text/plain": [
       "['second goat', 'first goat', 'car']"
      ]
     },
     "execution_count": 7,
     "metadata": {},
     "output_type": "execute_result"
    }
   ],
   "source": [
    "monty_hall_game()"
   ]
  },
  {
   "cell_type": "code",
   "execution_count": 8,
   "metadata": {},
   "outputs": [],
   "source": [
    "games = Table(['Guess', 'Revealed', 'Remaining'])\n",
    "\n",
    "for i in np.arange(10000):\n",
    "    games.append(monty_hall_game())\n"
   ]
  },
  {
   "cell_type": "code",
   "execution_count": 9,
   "metadata": {},
   "outputs": [
    {
     "data": {
      "text/html": [
       "<table border=\"1\" class=\"dataframe\">\n",
       "    <thead>\n",
       "        <tr>\n",
       "            <th>Guess</th> <th>Revealed</th> <th>Remaining</th>\n",
       "        </tr>\n",
       "    </thead>\n",
       "    <tbody>\n",
       "        <tr>\n",
       "            <td>car        </td> <td>second goat</td> <td>first goat</td>\n",
       "        </tr>\n",
       "        <tr>\n",
       "            <td>second goat</td> <td>first goat </td> <td>car       </td>\n",
       "        </tr>\n",
       "        <tr>\n",
       "            <td>first goat </td> <td>second goat</td> <td>car       </td>\n",
       "        </tr>\n",
       "    </tbody>\n",
       "</table>\n",
       "<p>... (9997 rows omitted)</p>"
      ],
      "text/plain": [
       "<IPython.core.display.HTML object>"
      ]
     },
     "metadata": {},
     "output_type": "display_data"
    }
   ],
   "source": [
    "games.show(3)"
   ]
  },
  {
   "cell_type": "code",
   "execution_count": 10,
   "metadata": {},
   "outputs": [
    {
     "data": {
      "text/html": [
       "<table border=\"1\" class=\"dataframe\">\n",
       "    <thead>\n",
       "        <tr>\n",
       "            <th>Guess</th> <th>count</th>\n",
       "        </tr>\n",
       "    </thead>\n",
       "    <tbody>\n",
       "        <tr>\n",
       "            <td>car        </td> <td>3327 </td>\n",
       "        </tr>\n",
       "        <tr>\n",
       "            <td>first goat </td> <td>3356 </td>\n",
       "        </tr>\n",
       "        <tr>\n",
       "            <td>second goat</td> <td>3317 </td>\n",
       "        </tr>\n",
       "    </tbody>\n",
       "</table>"
      ],
      "text/plain": [
       "Guess       | count\n",
       "car         | 3327\n",
       "first goat  | 3356\n",
       "second goat | 3317"
      ]
     },
     "execution_count": 10,
     "metadata": {},
     "output_type": "execute_result"
    }
   ],
   "source": [
    "original_choice = games.group('Guess')\n",
    "original_choice"
   ]
  },
  {
   "cell_type": "code",
   "execution_count": 11,
   "metadata": {},
   "outputs": [
    {
     "data": {
      "text/html": [
       "<table border=\"1\" class=\"dataframe\">\n",
       "    <thead>\n",
       "        <tr>\n",
       "            <th>Remaining</th> <th>count</th>\n",
       "        </tr>\n",
       "    </thead>\n",
       "    <tbody>\n",
       "        <tr>\n",
       "            <td>car        </td> <td>6673 </td>\n",
       "        </tr>\n",
       "        <tr>\n",
       "            <td>first goat </td> <td>1688 </td>\n",
       "        </tr>\n",
       "        <tr>\n",
       "            <td>second goat</td> <td>1639 </td>\n",
       "        </tr>\n",
       "    </tbody>\n",
       "</table>"
      ],
      "text/plain": [
       "Remaining   | count\n",
       "car         | 6673\n",
       "first goat  | 1688\n",
       "second goat | 1639"
      ]
     },
     "execution_count": 11,
     "metadata": {},
     "output_type": "execute_result"
    }
   ],
   "source": [
    "remaining_door = games.group('Remaining')\n",
    "remaining_door"
   ]
  },
  {
   "cell_type": "code",
   "execution_count": 12,
   "metadata": {},
   "outputs": [
    {
     "data": {
      "text/html": [
       "<table border=\"1\" class=\"dataframe\">\n",
       "    <thead>\n",
       "        <tr>\n",
       "            <th>Item</th> <th>Original Door</th> <th>Remaining Door</th>\n",
       "        </tr>\n",
       "    </thead>\n",
       "    <tbody>\n",
       "        <tr>\n",
       "            <td>car        </td> <td>3327         </td> <td>6673          </td>\n",
       "        </tr>\n",
       "        <tr>\n",
       "            <td>first goat </td> <td>3356         </td> <td>1688          </td>\n",
       "        </tr>\n",
       "        <tr>\n",
       "            <td>second goat</td> <td>3317         </td> <td>1639          </td>\n",
       "        </tr>\n",
       "    </tbody>\n",
       "</table>"
      ],
      "text/plain": [
       "Item        | Original Door | Remaining Door\n",
       "car         | 3327          | 6673\n",
       "first goat  | 3356          | 1688\n",
       "second goat | 3317          | 1639"
      ]
     },
     "execution_count": 12,
     "metadata": {},
     "output_type": "execute_result"
    }
   ],
   "source": [
    "joined = original_choice.join('Guess', remaining_door, 'Remaining')\n",
    "combined = joined.relabeled(0, 'Item').relabeled(1, 'Original Door').relabeled(2, 'Remaining Door')\n",
    "combined"
   ]
  },
  {
   "cell_type": "code",
   "execution_count": 13,
   "metadata": {},
   "outputs": [
    {
     "data": {
      "image/png": "[encoded data removed]",
      "text/plain": [
       "<Figure size 600x400 with 1 Axes>"
      ]
     },
     "metadata": {},
     "output_type": "display_data"
    }
   ],
   "source": [
    "combined.barh(0)"
   ]
  },
  {
   "cell_type": "markdown",
   "metadata": {},
   "source": [
    "## Optional Problems"
   ]
  },
  {
   "cell_type": "markdown",
   "metadata": {},
   "source": [
    "Consider an autonomous vehicle using cameras to detect pedestrians. Each ride there is a 1% chance of cameras failing. Provided that you own a car and you take your car out for 3 rides. \n",
    "- Your camera failed on the first ride. What is the probability that your cameras fail on the 2nd ride?\n",
    "What is the probability:\n",
    "- you have 1, 2 or 3 rides with camera failures\n",
    "- you have 1 ride with camera failures?\n"
   ]
  },
  {
   "cell_type": "code",
   "execution_count": 8,
   "metadata": {},
   "outputs": [],
   "source": [
    "def failure_simulation():\n",
    "    results = make_array()\n",
    "    for i in np.arange(3):\n",
    "        result = np.random.choice(['Failure', 'No Failure'], p = [0.01, 0.99])\n",
    "        results = np.append(results, result)\n",
    "    return results"
   ]
  },
  {
   "cell_type": "markdown",
   "metadata": {},
   "source": [
    "## (A) $$P(Camera\\:failure\\:on\\:the\\:2nd\\:ride)$$"
   ]
  },
  {
   "cell_type": "code",
   "execution_count": 51,
   "metadata": {},
   "outputs": [],
   "source": [
    "calculation = ..."
   ]
  },
  {
   "cell_type": "code",
   "execution_count": 52,
   "metadata": {},
   "outputs": [
    {
     "name": "stdout",
     "output_type": "stream",
     "text": [
      "0.0107\n"
     ]
    },
    {
     "data": {
      "image/png": "[encoded data removed]",
      "text/plain": [
       "<Figure size 600x400 with 1 Axes>"
      ]
     },
     "metadata": {},
     "output_type": "display_data"
    }
   ],
   "source": [
    "items = make_array()\n",
    "for i in np.arange(10000):\n",
    "    status_on_2nd = failure_simulation().item(1)\n",
    "    items = np.append(items, status_on_2nd)\n",
    "tbl = Table().with_column('2nd ride status', items).group('2nd ride status')\n",
    "tbl.barh('2nd ride status')\n",
    "print(np.mean(items == 'Failure'))"
   ]
  },
  {
   "cell_type": "markdown",
   "metadata": {},
   "source": [
    "## (B) $$P(More\\:than\\:1\\:camera\\:failure)$$"
   ]
  },
  {
   "cell_type": "code",
   "execution_count": 42,
   "metadata": {},
   "outputs": [],
   "source": [
    "calculation_b = ..."
   ]
  },
  {
   "cell_type": "code",
   "execution_count": 50,
   "metadata": {},
   "outputs": [
    {
     "name": "stdout",
     "output_type": "stream",
     "text": [
      "0.0002\n"
     ]
    },
    {
     "data": {
      "image/png": "[encoded data removed]",
      "text/plain": [
       "<Figure size 600x400 with 1 Axes>"
      ]
     },
     "metadata": {},
     "output_type": "display_data"
    }
   ],
   "source": [
    "items_b = make_array()\n",
    "for i in np.arange(10000):\n",
    "    more_than_1_failure = sum(failure_simulation() == 'Failure') > 1\n",
    "    items_b = np.append(items_b, more_than_1_failure)\n",
    "tbl = Table().with_column('More than 1', items_b).group('More than 1')\n",
    "tbl.barh('More than 1')\n",
    "print(np.mean(items))"
   ]
  },
  {
   "cell_type": "markdown",
   "metadata": {},
   "source": [
    "## (B) $$P(1\\:camera\\:failure)$$"
   ]
  },
  {
   "cell_type": "code",
   "execution_count": 42,
   "metadata": {},
   "outputs": [],
   "source": [
    "calculation_c = ..."
   ]
  },
  {
   "cell_type": "code",
   "execution_count": 47,
   "metadata": {},
   "outputs": [
    {
     "name": "stdout",
     "output_type": "stream",
     "text": [
      "0.0304\n"
     ]
    },
    {
     "data": {
      "image/png": "[encoded data removed]",
      "text/plain": [
       "<Figure size 600x400 with 1 Axes>"
      ]
     },
     "metadata": {},
     "output_type": "display_data"
    }
   ],
   "source": [
    "items_c = make_array()\n",
    "for i in np.arange(10000):\n",
    "    one_failure = sum(failure_simulation() == 'Failure') == 1\n",
    "    items_c = np.append(items_c, one_failure)\n",
    "tbl = Table().with_column('1 failure', items_b).group('1 failure')\n",
    "tbl.barh('1 failure')\n",
    "print(np.mean(items_c))"
   ]
  }
 ],
 "metadata": {
  "kernelspec": {
   "display_name": "Python 3 (ipykernel)",
   "language": "python",
   "name": "python3"
  },
  "language_info": {
   "codemirror_mode": {
    "name": "ipython",
    "version": 3
   },
   "file_extension": ".py",
   "mimetype": "text/x-python",
   "name": "python",
   "nbconvert_exporter": "python",
   "pygments_lexer": "ipython3",
   "version": "3.10.10"
  }
 },
 "nbformat": 4,
 "nbformat_minor": 4
}
