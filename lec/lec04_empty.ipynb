{
 "cells": [
  {
   "cell_type": "code",
   "execution_count": null,
   "id": "224aef4b",
   "metadata": {},
   "outputs": [],
   "source": [
    "from datascience import *\n",
    "import numpy as np\n",
    "\n",
    "%matplotlib inline\n",
    "import matplotlib.pyplot as plots\n",
    "plots.style.use('fivethirtyeight')"
   ]
  },
  {
   "cell_type": "markdown",
   "id": "1750cd53",
   "metadata": {},
   "source": [
    "# Review"
   ]
  },
  {
   "cell_type": "code",
   "execution_count": null,
   "id": "18f7a18a",
   "metadata": {},
   "outputs": [],
   "source": [
    "cones = Table.read_table('cones.csv')\n",
    "cones"
   ]
  },
  {
   "cell_type": "markdown",
   "id": "8e18c58e",
   "metadata": {},
   "source": [
    "### Discussion Q1"
   ]
  },
  {
   "cell_type": "code",
   "execution_count": null,
   "id": "1034a0e1",
   "metadata": {},
   "outputs": [],
   "source": [
    "# Find percentage of rows that match the condition color pink"
   ]
  },
  {
   "cell_type": "code",
   "execution_count": null,
   "id": "4a01a853",
   "metadata": {},
   "outputs": [],
   "source": [
    "..."
   ]
  },
  {
   "cell_type": "markdown",
   "id": "a2bacc30",
   "metadata": {},
   "source": [
    "### Discussion Question 2\n",
    "\n",
    "What does the following evaluate to\n",
    "\n",
    "```\n",
    "x = 5\n",
    "y = 7\n",
    "\n",
    "max(x, y)\n",
    "min(x-y, x+y, x*y, x/y)\n",
    "round(x/y)\n",
    "x * 2.5\n",
    "y + '5'\n",
    "\n",
    "```"
   ]
  },
  {
   "cell_type": "code",
   "execution_count": null,
   "id": "542a795a",
   "metadata": {},
   "outputs": [],
   "source": [
    "..."
   ]
  },
  {
   "cell_type": "markdown",
   "id": "04157946",
   "metadata": {},
   "source": [
    "## Numbers ##"
   ]
  },
  {
   "cell_type": "code",
   "execution_count": null,
   "id": "b7577ba0",
   "metadata": {},
   "outputs": [],
   "source": []
  },
  {
   "cell_type": "code",
   "execution_count": null,
   "id": "1a155cbf",
   "metadata": {},
   "outputs": [],
   "source": []
  },
  {
   "cell_type": "code",
   "execution_count": null,
   "id": "1ba0b0e0",
   "metadata": {},
   "outputs": [],
   "source": []
  },
  {
   "cell_type": "code",
   "execution_count": null,
   "id": "d7521f57",
   "metadata": {},
   "outputs": [],
   "source": []
  },
  {
   "cell_type": "code",
   "execution_count": null,
   "id": "893673bf",
   "metadata": {},
   "outputs": [],
   "source": []
  },
  {
   "cell_type": "code",
   "execution_count": null,
   "id": "7baf8dd0",
   "metadata": {},
   "outputs": [],
   "source": []
  },
  {
   "cell_type": "markdown",
   "id": "b851cda2",
   "metadata": {},
   "source": [
    "## Strings ##"
   ]
  },
  {
   "cell_type": "code",
   "execution_count": null,
   "id": "314a46b1",
   "metadata": {},
   "outputs": [],
   "source": []
  },
  {
   "cell_type": "code",
   "execution_count": null,
   "id": "cca9175d",
   "metadata": {},
   "outputs": [],
   "source": []
  },
  {
   "cell_type": "code",
   "execution_count": null,
   "id": "e37bc484",
   "metadata": {},
   "outputs": [],
   "source": []
  },
  {
   "cell_type": "code",
   "execution_count": null,
   "id": "d7b6cd22",
   "metadata": {},
   "outputs": [],
   "source": []
  },
  {
   "cell_type": "code",
   "execution_count": null,
   "id": "8f157a7f",
   "metadata": {},
   "outputs": [],
   "source": []
  },
  {
   "cell_type": "code",
   "execution_count": null,
   "id": "a2150987",
   "metadata": {},
   "outputs": [],
   "source": []
  },
  {
   "cell_type": "code",
   "execution_count": null,
   "id": "ccc30b5d",
   "metadata": {},
   "outputs": [],
   "source": []
  },
  {
   "cell_type": "code",
   "execution_count": null,
   "id": "760f137d",
   "metadata": {},
   "outputs": [],
   "source": []
  },
  {
   "cell_type": "code",
   "execution_count": null,
   "id": "a033b999",
   "metadata": {},
   "outputs": [],
   "source": []
  },
  {
   "cell_type": "markdown",
   "id": "98d105c3",
   "metadata": {},
   "source": [
    "## Types ##"
   ]
  },
  {
   "cell_type": "code",
   "execution_count": null,
   "id": "c8a5428a",
   "metadata": {},
   "outputs": [],
   "source": []
  },
  {
   "cell_type": "code",
   "execution_count": null,
   "id": "ff678fb5",
   "metadata": {},
   "outputs": [],
   "source": []
  },
  {
   "cell_type": "code",
   "execution_count": null,
   "id": "58208554",
   "metadata": {},
   "outputs": [],
   "source": []
  },
  {
   "cell_type": "code",
   "execution_count": null,
   "id": "025dcb5c",
   "metadata": {},
   "outputs": [],
   "source": []
  },
  {
   "cell_type": "code",
   "execution_count": null,
   "id": "c344700c",
   "metadata": {},
   "outputs": [],
   "source": []
  },
  {
   "cell_type": "code",
   "execution_count": null,
   "id": "155e21fc",
   "metadata": {},
   "outputs": [],
   "source": []
  },
  {
   "cell_type": "code",
   "execution_count": null,
   "id": "795594a7",
   "metadata": {},
   "outputs": [],
   "source": []
  },
  {
   "cell_type": "code",
   "execution_count": null,
   "id": "59f5a66b",
   "metadata": {},
   "outputs": [],
   "source": []
  },
  {
   "cell_type": "markdown",
   "id": "d430abea",
   "metadata": {},
   "source": [
    "## Arrays ##"
   ]
  },
  {
   "cell_type": "code",
   "execution_count": null,
   "id": "a8e30978",
   "metadata": {},
   "outputs": [],
   "source": []
  },
  {
   "cell_type": "code",
   "execution_count": null,
   "id": "4e538d3b",
   "metadata": {},
   "outputs": [],
   "source": []
  },
  {
   "cell_type": "code",
   "execution_count": null,
   "id": "826d9f6e",
   "metadata": {},
   "outputs": [],
   "source": []
  },
  {
   "cell_type": "code",
   "execution_count": null,
   "id": "516f8f81",
   "metadata": {},
   "outputs": [],
   "source": []
  },
  {
   "cell_type": "code",
   "execution_count": null,
   "id": "ded69dac",
   "metadata": {},
   "outputs": [],
   "source": []
  },
  {
   "cell_type": "code",
   "execution_count": null,
   "id": "66cb881d",
   "metadata": {},
   "outputs": [],
   "source": []
  },
  {
   "cell_type": "code",
   "execution_count": null,
   "id": "4d47fe7b",
   "metadata": {},
   "outputs": [],
   "source": []
  },
  {
   "cell_type": "code",
   "execution_count": null,
   "id": "0c42adea",
   "metadata": {},
   "outputs": [],
   "source": []
  },
  {
   "cell_type": "code",
   "execution_count": null,
   "id": "aa2be54c",
   "metadata": {},
   "outputs": [],
   "source": []
  },
  {
   "cell_type": "markdown",
   "id": "d3792c3a",
   "metadata": {},
   "source": [
    "## Columns of Tables are Arrays ##"
   ]
  },
  {
   "cell_type": "code",
   "execution_count": null,
   "id": "4abb19b9",
   "metadata": {},
   "outputs": [],
   "source": [
    "nba = Table.read_table('nba_salaries.csv').relabeled(4, 'SALARY')\n",
    "warriors = nba.where('team', 'Golden State Warriors')"
   ]
  },
  {
   "cell_type": "code",
   "execution_count": null,
   "id": "70b279de",
   "metadata": {},
   "outputs": [],
   "source": [
    "warriors"
   ]
  },
  {
   "cell_type": "code",
   "execution_count": null,
   "id": "1113f3d9",
   "metadata": {},
   "outputs": [],
   "source": []
  },
  {
   "cell_type": "code",
   "execution_count": null,
   "id": "a381704a",
   "metadata": {},
   "outputs": [],
   "source": []
  },
  {
   "cell_type": "code",
   "execution_count": null,
   "id": "6b144667",
   "metadata": {},
   "outputs": [],
   "source": []
  },
  {
   "cell_type": "code",
   "execution_count": null,
   "id": "b077a227",
   "metadata": {},
   "outputs": [],
   "source": []
  },
  {
   "cell_type": "code",
   "execution_count": null,
   "id": "b26baedf",
   "metadata": {},
   "outputs": [],
   "source": []
  },
  {
   "cell_type": "markdown",
   "id": "4bf293c1",
   "metadata": {},
   "source": [
    "## Ranges ##"
   ]
  },
  {
   "cell_type": "code",
   "execution_count": null,
   "id": "6d456bb2",
   "metadata": {},
   "outputs": [],
   "source": []
  },
  {
   "cell_type": "code",
   "execution_count": null,
   "id": "ac67efad",
   "metadata": {},
   "outputs": [],
   "source": []
  },
  {
   "cell_type": "code",
   "execution_count": null,
   "id": "d7abab73",
   "metadata": {},
   "outputs": [],
   "source": []
  },
  {
   "cell_type": "code",
   "execution_count": null,
   "id": "998d8383",
   "metadata": {},
   "outputs": [],
   "source": []
  },
  {
   "cell_type": "code",
   "execution_count": null,
   "id": "bd3ceaee",
   "metadata": {},
   "outputs": [],
   "source": []
  },
  {
   "cell_type": "code",
   "execution_count": null,
   "id": "bab19525",
   "metadata": {},
   "outputs": [],
   "source": []
  },
  {
   "cell_type": "code",
   "execution_count": null,
   "id": "67be1718",
   "metadata": {},
   "outputs": [],
   "source": []
  },
  {
   "cell_type": "code",
   "execution_count": null,
   "id": "df67aede",
   "metadata": {},
   "outputs": [],
   "source": []
  },
  {
   "cell_type": "code",
   "execution_count": null,
   "id": "648a1ca2",
   "metadata": {},
   "outputs": [],
   "source": []
  },
  {
   "cell_type": "markdown",
   "id": "f7fa6dd6",
   "metadata": {},
   "source": [
    "# Ways to Create a Table #\n",
    "\n",
    "## Creating a Table from Scratch ##"
   ]
  },
  {
   "cell_type": "code",
   "execution_count": null,
   "id": "2b9de9c2",
   "metadata": {},
   "outputs": [],
   "source": [
    "streets = make_array('Bancroft', 'Durant', 'Channing', 'Haste')\n",
    "streets"
   ]
  },
  {
   "cell_type": "code",
   "execution_count": null,
   "id": "b65a3efc",
   "metadata": {},
   "outputs": [],
   "source": [
    "Table()"
   ]
  },
  {
   "cell_type": "code",
   "execution_count": null,
   "id": "36acc851",
   "metadata": {},
   "outputs": [],
   "source": [
    "southside = Table().with_column(...)\n",
    "southside"
   ]
  },
  {
   "cell_type": "code",
   "execution_count": null,
   "id": "b3acc958",
   "metadata": {},
   "outputs": [],
   "source": [
    "southside.with_column(...)"
   ]
  },
  {
   "cell_type": "code",
   "execution_count": null,
   "id": "c1689450",
   "metadata": {},
   "outputs": [],
   "source": [
    "southside"
   ]
  },
  {
   "cell_type": "code",
   "execution_count": null,
   "id": "014e4e63",
   "metadata": {},
   "outputs": [],
   "source": [
    "southside = southside.with_column(...)\n",
    "southside"
   ]
  },
  {
   "cell_type": "code",
   "execution_count": null,
   "id": "b7cca43b",
   "metadata": {},
   "outputs": [],
   "source": [
    "Table().with_columns(\n",
    "    'Streets', ...,\n",
    "    'Blocks from campus', ...\n",
    ")"
   ]
  },
  {
   "cell_type": "markdown",
   "id": "b89bff04",
   "metadata": {},
   "source": [
    "## Reading a Table from a File  ##"
   ]
  },
  {
   "cell_type": "code",
   "execution_count": null,
   "id": "45acf770",
   "metadata": {},
   "outputs": [],
   "source": [
    "du_bois = Table.read_table('du_bois.csv')\n",
    "du_bois"
   ]
  },
  {
   "cell_type": "code",
   "execution_count": null,
   "id": "78905d57",
   "metadata": {},
   "outputs": [],
   "source": []
  },
  {
   "cell_type": "code",
   "execution_count": null,
   "id": "5eae3fa6",
   "metadata": {},
   "outputs": [],
   "source": []
  },
  {
   "cell_type": "code",
   "execution_count": null,
   "id": "5debbe65",
   "metadata": {},
   "outputs": [],
   "source": []
  },
  {
   "cell_type": "markdown",
   "id": "a0252700",
   "metadata": {},
   "source": [
    "## Discussion Question\n",
    "\n",
    "Use the table functions we learned this week to find the income bracket (“class”) that spent the highest percentage of their income on rent."
   ]
  },
  {
   "cell_type": "code",
   "execution_count": null,
   "id": "cadb1857",
   "metadata": {},
   "outputs": [],
   "source": [
    "..."
   ]
  },
  {
   "cell_type": "markdown",
   "id": "8cdc9ec6",
   "metadata": {},
   "source": [
    "# Lecture 4b: Census"
   ]
  },
  {
   "cell_type": "markdown",
   "id": "59dc14b1",
   "metadata": {},
   "source": [
    "## Discussion Question: NBA Salaries"
   ]
  },
  {
   "cell_type": "code",
   "execution_count": null,
   "id": "3ee601d6",
   "metadata": {},
   "outputs": [],
   "source": [
    "nba = Table.read_table('nba_salaries.csv')\n",
    "nba = nba.relabeled(4, 'SALARY').drop('TEAM')\n",
    "nba.show(3)"
   ]
  },
  {
   "cell_type": "code",
   "execution_count": null,
   "id": "265f3029",
   "metadata": {},
   "outputs": [],
   "source": [
    "# Question (a)\n",
    "..."
   ]
  },
  {
   "cell_type": "code",
   "execution_count": null,
   "id": "1346653b",
   "metadata": {},
   "outputs": [],
   "source": [
    "# Question (b)\n",
    "..."
   ]
  },
  {
   "cell_type": "markdown",
   "id": "f296f9bf",
   "metadata": {},
   "source": [
    "## Census ##"
   ]
  },
  {
   "cell_type": "code",
   "execution_count": null,
   "id": "bd749b75",
   "metadata": {},
   "outputs": [],
   "source": [
    "full = Table.read_table('nc-est2019-agesex-res.csv')\n",
    "full"
   ]
  },
  {
   "cell_type": "code",
   "execution_count": null,
   "id": "264b8240",
   "metadata": {},
   "outputs": [],
   "source": [
    "partial = full.select('SEX', 'AGE', 'POPESTIMATE2014', 'POPESTIMATE2019')\n",
    "partial.show(5)"
   ]
  },
  {
   "cell_type": "code",
   "execution_count": null,
   "id": "a7944ed5",
   "metadata": {},
   "outputs": [],
   "source": [
    "us_pop = partial.relabeled(...).relabeled(...)\n",
    "us_pop.show(5)"
   ]
  },
  {
   "cell_type": "code",
   "execution_count": null,
   "id": "4cc21c44",
   "metadata": {},
   "outputs": [],
   "source": [
    "..."
   ]
  },
  {
   "cell_type": "markdown",
   "id": "22c1424c",
   "metadata": {},
   "source": [
    "## 2019 Sex Ratios ##"
   ]
  },
  {
   "cell_type": "code",
   "execution_count": null,
   "id": "59ee2787",
   "metadata": {},
   "outputs": [],
   "source": [
    "us_pop_2019 = us_pop.drop('2014')\n",
    "us_pop_2019.show(3)"
   ]
  },
  {
   "cell_type": "code",
   "execution_count": null,
   "id": "bdbc7be9",
   "metadata": {},
   "outputs": [],
   "source": [
    "all_ages = us_pop_2019.where('AGE', are.equal_to(999))\n",
    "all_ages"
   ]
  },
  {
   "cell_type": "code",
   "execution_count": null,
   "id": "e264f500",
   "metadata": {},
   "outputs": [],
   "source": [
    "infants = us_pop_2019.where('AGE', are.equal_to(0))\n",
    "infants"
   ]
  },
  {
   "cell_type": "code",
   "execution_count": null,
   "id": "194eed88",
   "metadata": {},
   "outputs": [],
   "source": [
    "females_all_rows = us_pop_2019.where('SEX', are.equal_to(2))\n",
    "females = females_all_rows.where('AGE', are.not_equal_to(999))\n",
    "females.show(3)"
   ]
  },
  {
   "cell_type": "code",
   "execution_count": null,
   "id": "bd8680bd",
   "metadata": {},
   "outputs": [],
   "source": [
    "males_all_rows = us_pop_2019.where('SEX', are.equal_to(1))\n",
    "males = males_all_rows.where('AGE', are.not_equal_to(999))\n",
    "males.show(3)"
   ]
  },
  {
   "cell_type": "code",
   "execution_count": null,
   "id": "4188d89d",
   "metadata": {},
   "outputs": [],
   "source": [
    "f_to_m_ratios = females.column(2) / males.column(2)\n",
    "\n",
    "ratios = Table().with_columns(\n",
    "    'Age', females.column('AGE'),\n",
    "    'F:M Ratio', f_to_m_ratios\n",
    ")\n",
    "\n",
    "ratios"
   ]
  },
  {
   "cell_type": "code",
   "execution_count": null,
   "id": "7b54255a",
   "metadata": {},
   "outputs": [],
   "source": [
    "ratios.sort('Age', descending=True)"
   ]
  },
  {
   "cell_type": "markdown",
   "id": "8d91d32b",
   "metadata": {},
   "source": [
    "## Line Plot ##"
   ]
  },
  {
   "cell_type": "code",
   "execution_count": null,
   "id": "3c99e475",
   "metadata": {},
   "outputs": [],
   "source": [
    "ratios.plot('Age', 'F:M Ratio')"
   ]
  },
  {
   "cell_type": "markdown",
   "id": "4ac9f20c",
   "metadata": {},
   "source": [
    "## Optional: Adding a Title to a Plot ##"
   ]
  },
  {
   "cell_type": "code",
   "execution_count": null,
   "id": "0e7d021a",
   "metadata": {},
   "outputs": [],
   "source": [
    "ratios.plot('Age', 'F:M Ratio')\n",
    "plots.title('2019 US Population');"
   ]
  },
  {
   "cell_type": "markdown",
   "id": "57642e54",
   "metadata": {},
   "source": [
    "## Optional: set_format and PercentFormatter ##"
   ]
  },
  {
   "cell_type": "code",
   "execution_count": null,
   "id": "2a3bc10b",
   "metadata": {},
   "outputs": [],
   "source": [
    "infants"
   ]
  },
  {
   "cell_type": "code",
   "execution_count": null,
   "id": "631ac394",
   "metadata": {},
   "outputs": [],
   "source": [
    "total_infants_2019 = infants.column('2019').item(0)\n",
    "total_infants_2019"
   ]
  },
  {
   "cell_type": "code",
   "execution_count": null,
   "id": "8112a36a",
   "metadata": {},
   "outputs": [],
   "source": [
    "infants = infants.with_column(\n",
    "    'Proportion', infants.column('2019')/total_infants_2019\n",
    ")\n",
    "infants"
   ]
  },
  {
   "cell_type": "code",
   "execution_count": null,
   "id": "004265b5",
   "metadata": {},
   "outputs": [],
   "source": [
    "# A more easily readable display\n",
    "# Displays proportions as percents\n",
    "infants.set_format('Proportion', PercentFormatter)"
   ]
  },
  {
   "cell_type": "code",
   "execution_count": null,
   "id": "cd245882",
   "metadata": {
    "scrolled": true
   },
   "outputs": [],
   "source": [
    "# Once the format is set, it remains.\n",
    "infants"
   ]
  },
  {
   "cell_type": "code",
   "execution_count": null,
   "id": "85794335",
   "metadata": {},
   "outputs": [],
   "source": []
  }
 ],
 "metadata": {
  "kernelspec": {
   "display_name": "Python 3 (ipykernel)",
   "language": "python",
   "name": "python3"
  },
  "language_info": {
   "codemirror_mode": {
    "name": "ipython",
    "version": 3
   },
   "file_extension": ".py",
   "mimetype": "text/x-python",
   "name": "python",
   "nbconvert_exporter": "python",
   "pygments_lexer": "ipython3",
   "version": "3.10.10"
  }
 },
 "nbformat": 4,
 "nbformat_minor": 5
}
