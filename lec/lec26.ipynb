{
 "cells": [
  {
   "cell_type": "code",
   "execution_count": 1,
   "metadata": {
    "scrolled": true
   },
   "outputs": [],
   "source": [
    "# HIDDEN\n",
    "from datascience import *\n",
    "import numpy as np\n",
    "%matplotlib inline\n",
    "import matplotlib.pyplot as plots\n",
    "plots.style.use('fivethirtyeight')"
   ]
  },
  {
   "cell_type": "markdown",
   "metadata": {},
   "source": [
    "### Regression line vs other lines"
   ]
  },
  {
   "cell_type": "code",
   "execution_count": 2,
   "metadata": {
    "scrolled": true
   },
   "outputs": [],
   "source": [
    "def standard_units(arr):\n",
    "    \"\"\" Converts an array to standard units \"\"\"\n",
    "    return (arr - np.average(arr))/np.std(arr)\n",
    "\n",
    "def correlation(t, x, y):\n",
    "    \"\"\" Computes correlation: t is a table, and x and y are column names \"\"\"\n",
    "    x_standard = standard_units(t.column(x))\n",
    "    y_standard = standard_units(t.column(y))\n",
    "    return np.average(x_standard * y_standard)\n",
    "\n",
    "def slope(t, x, y):\n",
    "    \"\"\" Computes the slope of the regression line, like correlation above \"\"\"\n",
    "    r = correlation(t, x, y)\n",
    "    y_sd = np.std(t.column(y))\n",
    "    x_sd = np.std(t.column(x))\n",
    "    return r * y_sd / x_sd\n",
    "\n",
    "def intercept(t, x, y):\n",
    "    \"\"\" Computes the intercept of the regression line, like slope above \"\"\"\n",
    "    x_mean = np.mean(t.column(x))\n",
    "    y_mean = np.mean(t.column(y))\n",
    "    return y_mean - slope(t, x, y)*x_mean\n",
    "\n",
    "def fitted_values(t, x, y):\n",
    "    \"\"\"Return an array of the regression estimates (predictions) at all the x values\"\"\"\n",
    "    a = slope(t, x, y)\n",
    "    b = intercept(t, x, y)\n",
    "    return a*t.column(x) + b"
   ]
  },
  {
   "cell_type": "markdown",
   "metadata": {},
   "source": [
    "## 2016 election dataset"
   ]
  },
  {
   "cell_type": "code",
   "execution_count": 3,
   "metadata": {
    "scrolled": false
   },
   "outputs": [
    {
     "data": {
      "text/html": [
       "<table border=\"1\" class=\"dataframe\">\n",
       "    <thead>\n",
       "        <tr>\n",
       "            <th>State</th> <th>District</th> <th>Median Income</th> <th>Percent voting for Clinton</th> <th>College%</th>\n",
       "        </tr>\n",
       "    </thead>\n",
       "    <tbody>\n",
       "        <tr>\n",
       "            <td>Alabama</td> <td>Congressional District 1 (115th Congress), Alabama        </td> <td>47083        </td> <td>34.1                      </td> <td>24      </td>\n",
       "        </tr>\n",
       "        <tr>\n",
       "            <td>Alabama</td> <td>Congressional District 2 (115th Congress), Alabama        </td> <td>42035        </td> <td>33                        </td> <td>21.8    </td>\n",
       "        </tr>\n",
       "        <tr>\n",
       "            <td>Alabama</td> <td>Congressional District 3 (115th Congress), Alabama        </td> <td>46544        </td> <td>32.3                      </td> <td>22.8    </td>\n",
       "        </tr>\n",
       "        <tr>\n",
       "            <td>Alabama</td> <td>Congressional District 4 (115th Congress), Alabama        </td> <td>41110        </td> <td>17.4                      </td> <td>17      </td>\n",
       "        </tr>\n",
       "        <tr>\n",
       "            <td>Alabama</td> <td>Congressional District 5 (115th Congress), Alabama        </td> <td>51690        </td> <td>31.3                      </td> <td>30.3    </td>\n",
       "        </tr>\n",
       "        <tr>\n",
       "            <td>Alabama</td> <td>Congressional District 6 (115th Congress), Alabama        </td> <td>61413        </td> <td>26.1                      </td> <td>36.7    </td>\n",
       "        </tr>\n",
       "        <tr>\n",
       "            <td>Alabama</td> <td>Congressional District 7 (115th Congress), Alabama        </td> <td>34664        </td> <td>69.8                      </td> <td>19.4    </td>\n",
       "        </tr>\n",
       "        <tr>\n",
       "            <td>Alaska </td> <td>Congressional District (at Large) (115th Congress), Alaska</td> <td>76440        </td> <td>37.6                      </td> <td>29.6    </td>\n",
       "        </tr>\n",
       "        <tr>\n",
       "            <td>Arizona</td> <td>Congressional District 1 (115th Congress), Arizona        </td> <td>50537        </td> <td>46.6                      </td> <td>24.5    </td>\n",
       "        </tr>\n",
       "        <tr>\n",
       "            <td>Arizona</td> <td>Congressional District 2 (115th Congress), Arizona        </td> <td>49072        </td> <td>49.6                      </td> <td>34      </td>\n",
       "        </tr>\n",
       "    </tbody>\n",
       "</table>\n",
       "<p>... (425 rows omitted)</p>"
      ],
      "text/plain": [
       "State   | District                                                   | Median Income | Percent voting for Clinton | College%\n",
       "Alabama | Congressional District 1 (115th Congress), Alabama         | 47083         | 34.1                       | 24\n",
       "Alabama | Congressional District 2 (115th Congress), Alabama         | 42035         | 33                         | 21.8\n",
       "Alabama | Congressional District 3 (115th Congress), Alabama         | 46544         | 32.3                       | 22.8\n",
       "Alabama | Congressional District 4 (115th Congress), Alabama         | 41110         | 17.4                       | 17\n",
       "Alabama | Congressional District 5 (115th Congress), Alabama         | 51690         | 31.3                       | 30.3\n",
       "Alabama | Congressional District 6 (115th Congress), Alabama         | 61413         | 26.1                       | 36.7\n",
       "Alabama | Congressional District 7 (115th Congress), Alabama         | 34664         | 69.8                       | 19.4\n",
       "Alaska  | Congressional District (at Large) (115th Congress), Alaska | 76440         | 37.6                       | 29.6\n",
       "Arizona | Congressional District 1 (115th Congress), Arizona         | 50537         | 46.6                       | 24.5\n",
       "Arizona | Congressional District 2 (115th Congress), Arizona         | 49072         | 49.6                       | 34\n",
       "... (425 rows omitted)"
      ]
     },
     "execution_count": 3,
     "metadata": {},
     "output_type": "execute_result"
    }
   ],
   "source": [
    "demographics = Table.read_table('district_demographics2016.csv')\n",
    "demographics"
   ]
  },
  {
   "cell_type": "code",
   "execution_count": 4,
   "metadata": {
    "scrolled": true
   },
   "outputs": [],
   "source": [
    "predict_voting = demographics.select('Median Income', 'Percent voting for Clinton')\n",
    "predict_voting = predict_voting.with_columns('Fitted',\n",
    "    fitted_values(demographics, 'Median Income', 'Percent voting for Clinton'))"
   ]
  },
  {
   "cell_type": "code",
   "execution_count": 5,
   "metadata": {
    "scrolled": false
   },
   "outputs": [
    {
     "data": {
      "image/png": "[encoded data removed]",
      "text/plain": [
       "<Figure size 500x500 with 1 Axes>"
      ]
     },
     "metadata": {},
     "output_type": "display_data"
    }
   ],
   "source": [
    "predict_voting.scatter('Median Income')"
   ]
  },
  {
   "cell_type": "code",
   "execution_count": null,
   "metadata": {
    "scrolled": true
   },
   "outputs": [],
   "source": [
    "predict_income = demographics.select('College%', 'Median Income')\n",
    "predict_income = predict_income.with_columns('Fitted',\n",
    "    fitted_values(demographics, 'College%', 'Median Income'))\n",
    "predict_income.scatter('College%')"
   ]
  },
  {
   "cell_type": "markdown",
   "metadata": {},
   "source": [
    "## Residuals"
   ]
  },
  {
   "cell_type": "code",
   "execution_count": null,
   "metadata": {
    "scrolled": true
   },
   "outputs": [],
   "source": [
    "demographics = demographics.drop(\n",
    "    'State', 'District', 'Percent voting for Clinton')\n",
    "demographics.show(5)"
   ]
  },
  {
   "cell_type": "code",
   "execution_count": null,
   "metadata": {
    "scrolled": true
   },
   "outputs": [],
   "source": [
    "def residuals(t, x, y):\n",
    "    predictions = fitted_values(t, x, y)\n",
    "    return t.column(y) - predictions"
   ]
  },
  {
   "cell_type": "code",
   "execution_count": null,
   "metadata": {
    "scrolled": false
   },
   "outputs": [],
   "source": [
    "demographics = demographics.with_columns(\n",
    "    'Fitted Value', fitted_values(demographics, 'College%', 'Median Income'),\n",
    "    'Residual', residuals(demographics, 'College%', 'Median Income')\n",
    ")\n",
    "demographics"
   ]
  },
  {
   "cell_type": "code",
   "execution_count": null,
   "metadata": {
    "scrolled": false
   },
   "outputs": [],
   "source": [
    "demographics.scatter('College%')"
   ]
  },
  {
   "cell_type": "code",
   "execution_count": null,
   "metadata": {
    "scrolled": true
   },
   "outputs": [],
   "source": [
    "def plot_residuals(t, x, y):\n",
    "    tbl = t.with_columns(\n",
    "        'Fitted', fitted_values(t, x, y),\n",
    "        'Residual', residuals(t, x, y)\n",
    "    )\n",
    "    tbl.select(x, y, 'Fitted').scatter(0)\n",
    "    tbl.scatter(x, 'Residual')"
   ]
  },
  {
   "cell_type": "code",
   "execution_count": null,
   "metadata": {
    "scrolled": true
   },
   "outputs": [],
   "source": [
    "plot_residuals(demographics, 'College%', 'Median Income')"
   ]
  },
  {
   "cell_type": "code",
   "execution_count": null,
   "metadata": {
    "scrolled": true
   },
   "outputs": [],
   "source": [
    "family_heights = Table.read_table('family_heights.csv')\n",
    "parents = (family_heights.column('father') + family_heights.column('mother'))/2\n",
    "heights = Table().with_columns(\n",
    "    'Parent Average', parents,\n",
    "    'Child', family_heights.column('child')\n",
    "    )\n",
    "plot_residuals(heights, 'Parent Average', 'Child')"
   ]
  },
  {
   "cell_type": "markdown",
   "metadata": {},
   "source": [
    "## Dugongs ##"
   ]
  },
  {
   "cell_type": "code",
   "execution_count": null,
   "metadata": {
    "scrolled": false
   },
   "outputs": [],
   "source": [
    "dugong = Table.read_table('dugong.csv')\n",
    "dugong.show(5)"
   ]
  },
  {
   "cell_type": "code",
   "execution_count": null,
   "metadata": {
    "scrolled": true
   },
   "outputs": [],
   "source": [
    "dugong.scatter('Length', 'Age')"
   ]
  },
  {
   "cell_type": "code",
   "execution_count": null,
   "metadata": {
    "scrolled": true
   },
   "outputs": [],
   "source": [
    "correlation(dugong, 'Length', 'Age')"
   ]
  },
  {
   "cell_type": "code",
   "execution_count": null,
   "metadata": {
    "scrolled": true
   },
   "outputs": [],
   "source": [
    "plot_residuals(dugong, 'Length', 'Age')"
   ]
  },
  {
   "cell_type": "markdown",
   "metadata": {},
   "source": [
    "# US Women"
   ]
  },
  {
   "cell_type": "code",
   "execution_count": null,
   "metadata": {
    "scrolled": true
   },
   "outputs": [],
   "source": [
    "us_women = Table.read_table('us_women.csv')\n",
    "us_women.show(5)"
   ]
  },
  {
   "cell_type": "code",
   "execution_count": null,
   "metadata": {
    "scrolled": true
   },
   "outputs": [],
   "source": [
    "us_women.scatter('height')"
   ]
  },
  {
   "cell_type": "code",
   "execution_count": null,
   "metadata": {
    "scrolled": true
   },
   "outputs": [],
   "source": [
    "correlation(us_women, 'height', 'ave weight')"
   ]
  },
  {
   "cell_type": "code",
   "execution_count": null,
   "metadata": {
    "scrolled": true
   },
   "outputs": [],
   "source": [
    "plot_residuals(us_women, 'height', 'ave weight')"
   ]
  },
  {
   "cell_type": "markdown",
   "metadata": {},
   "source": [
    "## Average of Residuals ##"
   ]
  },
  {
   "cell_type": "code",
   "execution_count": null,
   "metadata": {
    "scrolled": true
   },
   "outputs": [],
   "source": [
    "round(np.average(residuals(dugong, 'Length', 'Age')), 6)"
   ]
  },
  {
   "cell_type": "code",
   "execution_count": null,
   "metadata": {
    "scrolled": true
   },
   "outputs": [],
   "source": [
    "round(np.average(residuals(heights, 'Parent Average', 'Child')), 6)"
   ]
  },
  {
   "cell_type": "code",
   "execution_count": null,
   "metadata": {
    "scrolled": true
   },
   "outputs": [],
   "source": [
    "round(np.average(residuals(demographics, 'College%', 'Median Income')), 6)"
   ]
  },
  {
   "cell_type": "code",
   "execution_count": null,
   "metadata": {
    "scrolled": true
   },
   "outputs": [],
   "source": [
    "heights = heights.with_columns(\n",
    "    'Residual', residuals(heights, 'Parent Average', 'Child'),\n",
    "    'Fitted Value', fitted_values(heights, 'Parent Average', 'Child')\n",
    ")\n"
   ]
  },
  {
   "cell_type": "code",
   "execution_count": null,
   "metadata": {
    "scrolled": true
   },
   "outputs": [],
   "source": [
    "round(correlation(heights, 'Parent Average', 'Residual'), 6)"
   ]
  },
  {
   "cell_type": "code",
   "execution_count": null,
   "metadata": {
    "scrolled": true
   },
   "outputs": [],
   "source": [
    "round(correlation(heights, 'Fitted Value', 'Residual'), 6)"
   ]
  }
 ],
 "metadata": {
  "anaconda-cloud": {},
  "kernelspec": {
   "display_name": "Python 3 (ipykernel)",
   "language": "python",
   "name": "python3"
  },
  "language_info": {
   "codemirror_mode": {
    "name": "ipython",
    "version": 3
   },
   "file_extension": ".py",
   "mimetype": "text/x-python",
   "name": "python",
   "nbconvert_exporter": "python",
   "pygments_lexer": "ipython3",
   "version": "3.9.15"
  }
 },
 "nbformat": 4,
 "nbformat_minor": 1
}
